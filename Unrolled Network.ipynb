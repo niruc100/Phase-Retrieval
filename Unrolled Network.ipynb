{
 "cells": [
  {
   "cell_type": "markdown",
   "metadata": {},
   "source": [
    "# Phase retrieval using unrolled networks"
   ]
  },
  {
   "cell_type": "code",
   "execution_count": 1,
   "metadata": {
    "ExecuteTime": {
     "end_time": "2021-08-14T21:59:30.030916Z",
     "start_time": "2021-08-14T21:59:29.103599Z"
    },
    "scrolled": false
   },
   "outputs": [
    {
     "name": "stdout",
     "output_type": "stream",
     "text": [
      "1.8.1 0.9.1 1.20.2\n"
     ]
    }
   ],
   "source": [
    "import torch \n",
    "import torchvision as tv\n",
    "from torch.utils.data import DataLoader as DL\n",
    "\n",
    "import numpy as np\n",
    "import matplotlib.pyplot as plt\n",
    "\n",
    "import torch.nn.functional as F\n",
    "import torch.nn as nn\n",
    "\n",
    "from tqdm.notebook import tqdm\n",
    "from skimage import metrics\n",
    "\n",
    "%matplotlib inline\n",
    "%load_ext autoreload\n",
    "%autoreload 2\n",
    "print(torch.__version__, tv.__version__, np.__version__)"
   ]
  },
  {
   "cell_type": "markdown",
   "metadata": {},
   "source": [
    "# Check if NVIDIA GPU is available"
   ]
  },
  {
   "cell_type": "code",
   "execution_count": 2,
   "metadata": {
    "ExecuteTime": {
     "end_time": "2021-08-14T21:59:30.094297Z",
     "start_time": "2021-08-14T21:59:30.032890Z"
    }
   },
   "outputs": [
    {
     "name": "stdout",
     "output_type": "stream",
     "text": [
      "Using: CPU\n"
     ]
    }
   ],
   "source": [
    "device = torch.device('cuda:0' if torch.cuda.is_available() else 'cpu')\n",
    "\n",
    "if torch.cuda.is_available():\n",
    "    print(f'Using: {torch.cuda.get_device_name(0)} on GPU #{torch.cuda.current_device()}')\n",
    "else :\n",
    "    print('Using: CPU')"
   ]
  },
  {
   "cell_type": "markdown",
   "metadata": {},
   "source": [
    "# Define the recurrent network for Phase retrieval\n",
    "\n",
    "## A single layer to compute the true measurements and initialize the reconstructions"
   ]
  },
  {
   "cell_type": "code",
   "execution_count": 3,
   "metadata": {
    "ExecuteTime": {
     "end_time": "2021-08-14T21:59:30.174395Z",
     "start_time": "2021-08-14T21:59:30.096318Z"
    }
   },
   "outputs": [],
   "source": [
    "class InitialLayer(nn.Module):\n",
    "    def __init__(self):\n",
    "        super(InitialLayer, self).__init__()\n",
    "        \n",
    "    def forward(self, x_gt, u):\n",
    "        \n",
    "        # for numerical stability\n",
    "        eps = torch.tensor([1e-15]).to(device)\n",
    "        \n",
    "        # add possible GPU functionality\n",
    "        x_gt = x_gt.to(device).requires_grad_(True)\n",
    "        u = u.to(device).requires_grad_(True)\n",
    "        \n",
    "        \n",
    "        #unpack\n",
    "        n, h, w = x_gt.size()\n",
    "        \n",
    "        # true signal measurement\n",
    "        y = torch.fft.fft2(x_gt + u + eps, s=(2*h, 2*w), norm='ortho').abs()\n",
    "        \n",
    "        # init reconstruction \n",
    "        x = torch.zeros_like(x_gt).to(device).requires_grad_(True)\n",
    "        \n",
    "        return x, y, u "
   ]
  },
  {
   "cell_type": "markdown",
   "metadata": {},
   "source": [
    "## Gradient descent layers which perform the update step with SGD"
   ]
  },
  {
   "cell_type": "code",
   "execution_count": 4,
   "metadata": {
    "ExecuteTime": {
     "end_time": "2021-08-14T21:59:30.252969Z",
     "start_time": "2021-08-14T21:59:30.176312Z"
    }
   },
   "outputs": [],
   "source": [
    "class GradientDescentLayer(nn.Module):\n",
    "    def __init__(self):\n",
    "        super(GradientDescentLayer, self).__init__()\n",
    "\n",
    "    def forward(self, xk, y, u, alpha):\n",
    "\n",
    "        # for numerical stability\n",
    "        eps = torch.tensor([1e-15]).to(device)\n",
    "        xk = xk.to(device).requires_grad_(True)\n",
    "        y = y.to(device).requires_grad_(True)\n",
    "        \n",
    "        \n",
    "        #unpack\n",
    "        n, h, w = xk.size()\n",
    "\n",
    "        # compute estimated signal\n",
    "        y_est = torch.fft.fft2(xk.to(device) + u.to(device) + eps.to(device), s=(2*h,2*w), norm='ortho').abs()\n",
    "\n",
    "        y_est = y_est.to(device).requires_grad_(True)\n",
    "        # measurement loss\n",
    "        loss = (y - y_est).pow(2).sum()\n",
    "\n",
    "        # update reconstruction via SGD\n",
    "        loss.backward(retain_graph= True)\n",
    "        new_x = xk - alpha * xk.grad.data\n",
    "        new_x = torch.clamp(new_x, 0, 1)\n",
    "\n",
    "        return new_x.clone().detach().to(device).requires_grad_(True)"
   ]
  },
  {
   "cell_type": "markdown",
   "metadata": {},
   "source": [
    "## The (trainable) network which composes the initial layer and k - SGD layer together"
   ]
  },
  {
   "cell_type": "code",
   "execution_count": 5,
   "metadata": {
    "ExecuteTime": {
     "end_time": "2021-08-14T21:59:30.411490Z",
     "start_time": "2021-08-14T21:59:30.255454Z"
    }
   },
   "outputs": [],
   "source": [
    "class UnrolledNetwork(nn.Module):\n",
    "    def __init__(self, k):\n",
    "        super(UnrolledNetwork, self).__init__()\n",
    "\n",
    "        self.num_layer = k\n",
    "        self.init = InitialLayer()\n",
    "        self.layer = GradientDescentLayer()\n",
    "\n",
    "    def forward(self, x_gt, u, alpha, eval=False):\n",
    "          \n",
    "        # init reconstruction\n",
    "        xk, y, uk = self.init(x_gt, u)\n",
    "        \n",
    "        # compute reconstructions\n",
    "        for layer in tqdm(range(self.num_layer)):\n",
    "             xk = self.layer(xk, y, uk, alpha)\n",
    "        \n",
    "        \n",
    "        if eval is False:\n",
    "            return xk\n",
    "        \n",
    "        # evaluate\n",
    "        self.__compute_metrics(x_gt, xk.clone())\n",
    "        \n",
    "        return xk\n",
    "    \n",
    "    def train(self, train_data, alpha, beta, epochs):\n",
    "        # function to train a reference using this unrolled network\n",
    "        \n",
    "        # unpack\n",
    "        n, h, w = train_data.size()\n",
    "\n",
    "        train_data = train_data.to(device)\n",
    "        \n",
    "        # init first reference signal\n",
    "        torch.manual_seed(417)\n",
    "        u = torch.rand(h, w, requires_grad=True)\n",
    "\n",
    "\n",
    "        best_loss = float('inf')\n",
    "        best_u = u\n",
    "        for epoch in range(epochs):\n",
    "\n",
    "            rec = self.forward(train_data, u, alpha)\n",
    "            loss = (train_data - rec).pow(2).sum()\n",
    " \n",
    "            if loss.item() < best_loss:\n",
    "                best_u = u\n",
    "                best_loss = loss.item()\n",
    "\n",
    "            print(f' Loss: {loss.item()}')\n",
    "            plt.gray()\n",
    "            plt.imshow(u.detach().numpy());\n",
    "            plt.show()\n",
    "            \n",
    "            loss.backward(retain_graph=True)\n",
    "            new_u = u - beta * u.grad.data\n",
    "            new_u = torch.clamp(new_u, 0, 1)\n",
    "\n",
    "            u = new_u.clone().detach().requires_grad_(True)\n",
    "        \n",
    "        return best_u.detach()\n",
    "\n",
    "    def __compute_metrics(self, x_gt, xk):\n",
    "        # function to compute mean psnr and mean ssim\n",
    "        psnr = []\n",
    "        ssim = []\n",
    "        \n",
    "        if torch.cuda.is_available():\n",
    "            x_gt = x_gt.cpu()\n",
    "            xk = xk.cpu()\n",
    "        \n",
    "        n = x_gt.size()[0]\n",
    "        gt = x_gt.detach().numpy()\n",
    "        rec = xk.detach().numpy()\n",
    "        \n",
    "        for i in range(n):\n",
    "            psnr.append(metrics.peak_signal_noise_ratio(gt[i], rec[i]))\n",
    "            ssim.append(metrics.structural_similarity(gt[i], rec[i]))\n",
    "\n",
    "        mp, sp = np.mean(psnr), np.std(psnr)\n",
    "        ms, ss = np.mean(ssim), np.std(ssim)\n",
    "        \n",
    "        print(f'PSNR: {mp:.2f} +/- {sp:.2f}')\n",
    "        print(f'SSIM: {ms:.2f} +/- {ss:.2f}')"
   ]
  },
  {
   "cell_type": "markdown",
   "metadata": {},
   "source": [
    "# Load the test data"
   ]
  },
  {
   "cell_type": "code",
   "execution_count": 6,
   "metadata": {
    "ExecuteTime": {
     "end_time": "2021-08-14T21:59:57.812731Z",
     "start_time": "2021-08-14T21:59:30.414493Z"
    }
   },
   "outputs": [
    {
     "name": "stdout",
     "output_type": "stream",
     "text": [
      "Downloading https://www.cs.toronto.edu/~kriz/cifar-10-python.tar.gz to data/cifar\\cifar-10-python.tar.gz\n"
     ]
    },
    {
     "data": {
      "application/vnd.jupyter.widget-view+json": {
       "model_id": "5af6163cfcae4b3989fb53b34bed2fbe",
       "version_major": 2,
       "version_minor": 0
      },
      "text/plain": [
       "  0%|          | 0/170498071 [00:00<?, ?it/s]"
      ]
     },
     "metadata": {},
     "output_type": "display_data"
    },
    {
     "name": "stdout",
     "output_type": "stream",
     "text": [
      "Extracting data/cifar\\cifar-10-python.tar.gz to data/cifar\n",
      "Files already downloaded and verified\n",
      "Loaded 32 training samples and 10000 test samples with shape (32, 32) from CIFAR-10\n"
     ]
    }
   ],
   "source": [
    "size = 32\n",
    "num_train = 32\n",
    "num_test = 10000\n",
    "\n",
    "trans = tv.transforms.Compose([tv.transforms.Grayscale(),\n",
    "                               tv.transforms.Resize((size, size)),\n",
    "                               tv.transforms.ToTensor()])\n",
    "    \n",
    "train = tv.datasets.CIFAR10('data/cifar', train = True, transform= trans, download = True)\n",
    "test = tv.datasets.CIFAR10('data/cifar', train = False, transform= trans, download = True)\n",
    "    \n",
    "train, _ = next(iter(DL(train, num_train)))\n",
    "test, _ = next(iter(DL(test, num_test)))\n",
    "   \n",
    "print(f'Loaded {num_train} training samples and {num_test} test samples with shape {size, size} from CIFAR-10')\n",
    "\n",
    "x_train = torch.squeeze(train)\n",
    "x_test = torch.squeeze(test)"
   ]
  },
  {
   "cell_type": "markdown",
   "metadata": {},
   "source": [
    "## Train a reference signal"
   ]
  },
  {
   "cell_type": "code",
   "execution_count": 10,
   "metadata": {
    "ExecuteTime": {
     "end_time": "2021-08-14T22:02:11.552381Z",
     "start_time": "2021-08-14T22:02:04.798487Z"
    }
   },
   "outputs": [
    {
     "data": {
      "application/vnd.jupyter.widget-view+json": {
       "model_id": "84701b3b098d48f08b496f52bc3eb572",
       "version_major": 2,
       "version_minor": 0
      },
      "text/plain": [
       "  0%|          | 0/50 [00:00<?, ?it/s]"
      ]
     },
     "metadata": {},
     "output_type": "display_data"
    },
    {
     "name": "stdout",
     "output_type": "stream",
     "text": [
      " Loss: 1267.1552734375\n"
     ]
    },
    {
     "data": {
      "image/png": "[encoded data removed]",
      "text/plain": [
       "<Figure size 432x288 with 1 Axes>"
      ]
     },
     "metadata": {
      "needs_background": "light"
     },
     "output_type": "display_data"
    },
    {
     "data": {
      "application/vnd.jupyter.widget-view+json": {
       "model_id": "6289402ac7ef4a56a52b4553c1cd1063",
       "version_major": 2,
       "version_minor": 0
      },
      "text/plain": [
       "  0%|          | 0/50 [00:00<?, ?it/s]"
      ]
     },
     "metadata": {},
     "output_type": "display_data"
    },
    {
     "name": "stdout",
     "output_type": "stream",
     "text": [
      " Loss: 13.676019668579102\n"
     ]
    },
    {
     "data": {
      "image/png": "[encoded data removed]",
      "text/plain": [
       "<Figure size 432x288 with 1 Axes>"
      ]
     },
     "metadata": {
      "needs_background": "light"
     },
     "output_type": "display_data"
    },
    {
     "data": {
      "application/vnd.jupyter.widget-view+json": {
       "model_id": "cdd98f16624d4c2f9c290abbecb71639",
       "version_major": 2,
       "version_minor": 0
      },
      "text/plain": [
       "  0%|          | 0/50 [00:00<?, ?it/s]"
      ]
     },
     "metadata": {},
     "output_type": "display_data"
    },
    {
     "name": "stdout",
     "output_type": "stream",
     "text": [
      " Loss: 24.971248626708984\n"
     ]
    },
    {
     "data": {
      "image/png": "[encoded data removed]",
      "text/plain": [
       "<Figure size 432x288 with 1 Axes>"
      ]
     },
     "metadata": {
      "needs_background": "light"
     },
     "output_type": "display_data"
    },
    {
     "data": {
      "application/vnd.jupyter.widget-view+json": {
       "model_id": "ccc5fbc31889409c9d4109cc40aed56d",
       "version_major": 2,
       "version_minor": 0
      },
      "text/plain": [
       "  0%|          | 0/50 [00:00<?, ?it/s]"
      ]
     },
     "metadata": {},
     "output_type": "display_data"
    },
    {
     "name": "stdout",
     "output_type": "stream",
     "text": [
      " Loss: 49.176082611083984\n"
     ]
    },
    {
     "data": {
      "image/png": "[encoded data removed]",
      "text/plain": [
       "<Figure size 432x288 with 1 Axes>"
      ]
     },
     "metadata": {
      "needs_background": "light"
     },
     "output_type": "display_data"
    },
    {
     "data": {
      "application/vnd.jupyter.widget-view+json": {
       "model_id": "70b40c02281d4689bb9e8e577f7f4542",
       "version_major": 2,
       "version_minor": 0
      },
      "text/plain": [
       "  0%|          | 0/50 [00:00<?, ?it/s]"
      ]
     },
     "metadata": {},
     "output_type": "display_data"
    },
    {
     "name": "stdout",
     "output_type": "stream",
     "text": [
      " Loss: 114.58234405517578\n"
     ]
    },
    {
     "data": {
      "image/png": "[encoded data removed]",
      "text/plain": [
       "<Figure size 432x288 with 1 Axes>"
      ]
     },
     "metadata": {
      "needs_background": "light"
     },
     "output_type": "display_data"
    },
    {
     "data": {
      "application/vnd.jupyter.widget-view+json": {
       "model_id": "e1b7ef9f732946c2aaeb4fcddd653b4d",
       "version_major": 2,
       "version_minor": 0
      },
      "text/plain": [
       "  0%|          | 0/50 [00:00<?, ?it/s]"
      ]
     },
     "metadata": {},
     "output_type": "display_data"
    },
    {
     "name": "stdout",
     "output_type": "stream",
     "text": [
      " Loss: 21.35243034362793\n"
     ]
    },
    {
     "data": {
      "image/png": "[encoded data removed]",
      "text/plain": [
       "<Figure size 432x288 with 1 Axes>"
      ]
     },
     "metadata": {
      "needs_background": "light"
     },
     "output_type": "display_data"
    },
    {
     "data": {
      "application/vnd.jupyter.widget-view+json": {
       "model_id": "04e44a01aa404fa6b4746b75f696d645",
       "version_major": 2,
       "version_minor": 0
      },
      "text/plain": [
       "  0%|          | 0/50 [00:00<?, ?it/s]"
      ]
     },
     "metadata": {},
     "output_type": "display_data"
    },
    {
     "name": "stdout",
     "output_type": "stream",
     "text": [
      " Loss: 25.971965789794922\n"
     ]
    },
    {
     "data": {
      "image/png": "[encoded data removed]",
      "text/plain": [
       "<Figure size 432x288 with 1 Axes>"
      ]
     },
     "metadata": {
      "needs_background": "light"
     },
     "output_type": "display_data"
    },
    {
     "data": {
      "application/vnd.jupyter.widget-view+json": {
       "model_id": "1ab1280c44264ce78fb7075a38712dec",
       "version_major": 2,
       "version_minor": 0
      },
      "text/plain": [
       "  0%|          | 0/50 [00:00<?, ?it/s]"
      ]
     },
     "metadata": {},
     "output_type": "display_data"
    },
    {
     "name": "stdout",
     "output_type": "stream",
     "text": [
      " Loss: 84.46578979492188\n"
     ]
    },
    {
     "data": {
      "image/png": "[encoded data removed]",
      "text/plain": [
       "<Figure size 432x288 with 1 Axes>"
      ]
     },
     "metadata": {
      "needs_background": "light"
     },
     "output_type": "display_data"
    },
    {
     "data": {
      "application/vnd.jupyter.widget-view+json": {
       "model_id": "8bcce207004844e8b58291136069253d",
       "version_major": 2,
       "version_minor": 0
      },
      "text/plain": [
       "  0%|          | 0/50 [00:00<?, ?it/s]"
      ]
     },
     "metadata": {},
     "output_type": "display_data"
    },
    {
     "name": "stdout",
     "output_type": "stream",
     "text": [
      " Loss: 27.00303840637207\n"
     ]
    },
    {
     "data": {
      "image/png": "[encoded data removed]",
      "text/plain": [
       "<Figure size 432x288 with 1 Axes>"
      ]
     },
     "metadata": {
      "needs_background": "light"
     },
     "output_type": "display_data"
    },
    {
     "data": {
      "application/vnd.jupyter.widget-view+json": {
       "model_id": "00f283557a8b466abb3796f6f00d9a8d",
       "version_major": 2,
       "version_minor": 0
      },
      "text/plain": [
       "  0%|          | 0/50 [00:00<?, ?it/s]"
      ]
     },
     "metadata": {},
     "output_type": "display_data"
    },
    {
     "name": "stdout",
     "output_type": "stream",
     "text": [
      " Loss: 95.05938720703125\n"
     ]
    },
    {
     "data": {
      "image/png": "[encoded data removed]",
      "text/plain": [
       "<Figure size 432x288 with 1 Axes>"
      ]
     },
     "metadata": {
      "needs_background": "light"
     },
     "output_type": "display_data"
    }
   ],
   "source": [
    "n_train = 32\n",
    "\n",
    "# create network with 50 layer\n",
    "net = UnrolledNetwork(k=50)\n",
    "\n",
    "# train network\n",
    "ref = net.train(x_train[:n_train], alpha=0.8, beta=10, epochs=10)"
   ]
  },
  {
   "cell_type": "markdown",
   "metadata": {},
   "source": [
    "## Test the reference signal for reconstruction"
   ]
  },
  {
   "cell_type": "code",
   "execution_count": 11,
   "metadata": {
    "ExecuteTime": {
     "end_time": "2021-08-14T22:04:37.431058Z",
     "start_time": "2021-08-14T22:02:48.884866Z"
    }
   },
   "outputs": [
    {
     "data": {
      "image/png": "[encoded data removed]",
      "text/plain": [
       "<Figure size 432x288 with 1 Axes>"
      ]
     },
     "metadata": {
      "needs_background": "light"
     },
     "output_type": "display_data"
    },
    {
     "data": {
      "application/vnd.jupyter.widget-view+json": {
       "model_id": "b5c95da2647b4021a61228759721dd74",
       "version_major": 2,
       "version_minor": 0
      },
      "text/plain": [
       "  0%|          | 0/50 [00:00<?, ?it/s]"
      ]
     },
     "metadata": {},
     "output_type": "display_data"
    },
    {
     "name": "stdout",
     "output_type": "stream",
     "text": [
      "PSNR: 44.40 +/- 15.29\n",
      "SSIM: 0.97 +/- 0.06\n"
     ]
    }
   ],
   "source": [
    "n_test = 10000\n",
    "\n",
    "net = UnrolledNetwork(50)\n",
    "\n",
    "# show the trained reference\n",
    "plt.imshow(ref.numpy());\n",
    "plt.show()\n",
    "\n",
    "rec = net(x_test[:n_test],ref, 0.9, eval=True)"
   ]
  },
  {
   "cell_type": "code",
   "execution_count": 12,
   "metadata": {
    "ExecuteTime": {
     "end_time": "2021-08-14T22:04:38.147809Z",
     "start_time": "2021-08-14T22:04:37.431058Z"
    },
    "scrolled": true
   },
   "outputs": [
    {
     "data": {
      "image/png": "[encoded data removed]",
      "text/plain": [
       "<Figure size 1080x432 with 12 Axes>"
      ]
     },
     "metadata": {
      "needs_background": "light"
     },
     "output_type": "display_data"
    }
   ],
   "source": [
    "n = 6\n",
    "\n",
    "height, width = x_test[0].size()\n",
    "figset = range(0,n)\n",
    "plt.figure(figsize=(n*2.5, 6))\n",
    "plt.gray()\n",
    "\n",
    "if torch.cuda.is_available():\n",
    "    rec = rec.cpu()\n",
    "\n",
    "for i in range(n):\n",
    "    # display original\n",
    "    ax = plt.subplot(2, n, i + 1)\n",
    "    plt.imshow(x_test[figset[i]].detach().numpy())\n",
    "    plt.gray\n",
    "    plt.title('True Signal')\n",
    "    ax.get_xaxis().set_visible(False)\n",
    "    ax.get_yaxis().set_visible(False)\n",
    "\n",
    "    # display reconstruction\n",
    "    ax = plt.subplot(2, n, i + 1 +n)\n",
    "    plt.imshow(rec[figset[i]].detach().numpy())\n",
    "    plt.title('Reconstruction')\n",
    "    plt.gray()\n",
    "    ax.get_xaxis().set_visible(False)\n",
    "    ax.get_yaxis().set_visible(False)"
   ]
  }
 ],
 "metadata": {
  "kernelspec": {
   "display_name": "Python 3",
   "language": "python",
   "name": "python3"
  },
  "language_info": {
   "codemirror_mode": {
    "name": "ipython",
    "version": 3
   },
   "file_extension": ".py",
   "mimetype": "text/x-python",
   "name": "python",
   "nbconvert_exporter": "python",
   "pygments_lexer": "ipython3",
   "version": "3.7.10"
  },
  "toc": {
   "base_numbering": 1,
   "nav_menu": {},
   "number_sections": true,
   "sideBar": true,
   "skip_h1_title": false,
   "title_cell": "Table of Contents",
   "title_sidebar": "Contents",
   "toc_cell": false,
   "toc_position": {},
   "toc_section_display": true,
   "toc_window_display": false
  }
 },
 "nbformat": 4,
 "nbformat_minor": 4
}
