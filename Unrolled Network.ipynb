{
 "cells": [
  {
   "cell_type": "markdown",
   "metadata": {},
   "source": [
    "# Phase retrieval using unrolled networks"
   ]
  },
  {
   "cell_type": "code",
   "execution_count": 1,
   "metadata": {
    "scrolled": true
   },
   "outputs": [
    {
     "name": "stdout",
     "output_type": "stream",
     "text": [
      "1.9.0+cu102 0.10.0+cu102 1.21.0\n"
     ]
    }
   ],
   "source": [
    "import torch \n",
    "import torchvision as tv\n",
    "\n",
    "import numpy as np\n",
    "import matplotlib.pyplot as plt\n",
    "\n",
    "import torch.nn.functional as F\n",
    "import torch.nn as nn\n",
    "\n",
    "from tqdm.notebook import tqdm\n",
    "from skimage import metrics\n",
    "\n",
    "%matplotlib inline\n",
    "%load_ext autoreload\n",
    "%autoreload 2\n",
    "print(torch.__version__, tv.__version__, np.__version__)"
   ]
  },
  {
   "cell_type": "markdown",
   "metadata": {},
   "source": [
    "# Define the recurrent network for Phase retrieval\n",
    "\n",
    "## A single layer to compute the true measurements and initialize the reconstructions"
   ]
  },
  {
   "cell_type": "code",
   "execution_count": 2,
   "metadata": {},
   "outputs": [],
   "source": [
    "class InitialLayer(nn.Module):\n",
    "    def __init__(self):\n",
    "        super(InitialLayer, self).__init__()\n",
    "        \n",
    "    def forward(self, x_gt, u):\n",
    "        \n",
    "        # for numerical stability\n",
    "        eps = torch.tensor([1e-15])\n",
    "        \n",
    "        #unpack\n",
    "        n, h, w = x_gt.size()\n",
    "        \n",
    "        # true signal measurement\n",
    "        y = torch.fft.fft2(x_gt + u + eps, s=(2*h, 2*w), norm='ortho').abs()\n",
    "        \n",
    "        # init reconstruction \n",
    "        x = torch.zeros_like(x_gt, requires_grad=True)\n",
    "        \n",
    "        return x, y.requires_grad_(True), u.requires_grad_(True)"
   ]
  },
  {
   "cell_type": "markdown",
   "metadata": {},
   "source": [
    "## Gradient descent layers which perform the update step with SGD"
   ]
  },
  {
   "cell_type": "code",
   "execution_count": 3,
   "metadata": {},
   "outputs": [],
   "source": [
    "class GradientDescentLayer(nn.Module):\n",
    "    def __init__(self):\n",
    "        super(GradientDescentLayer, self).__init__()\n",
    "\n",
    "    def forward(self, xk, y, u, alpha):\n",
    "\n",
    "        # for numerical stability\n",
    "        eps = torch.tensor([1e-15])\n",
    "        \n",
    "        #unpack\n",
    "        n, h, w = xk.size()\n",
    "\n",
    "        # compute estimated signal\n",
    "        y_est = torch.fft.fft2(xk + u + eps, s=(2*h,2*w), norm='ortho').abs()\n",
    "\n",
    "        # measurement loss\n",
    "        loss = (y - y_est).pow(2).sum()\n",
    "\n",
    "        # update reconstruction via SGD\n",
    "        loss.backward(retain_graph= True)\n",
    "        new_x = xk - alpha * xk.grad.data\n",
    "        new_x = torch.clamp(new_x, 0, 1)\n",
    "\n",
    "        return new_x.clone().detach().requires_grad_(True)"
   ]
  },
  {
   "cell_type": "markdown",
   "metadata": {},
   "source": [
    "## The (trainable) network which composes the initial layer and k - SGD layer together"
   ]
  },
  {
   "cell_type": "code",
   "execution_count": 4,
   "metadata": {},
   "outputs": [],
   "source": [
    "class UnrolledNetwork(nn.Module):\n",
    "    def __init__(self, k):\n",
    "        super(UnrolledNetwork, self).__init__()\n",
    "\n",
    "        self.num_layer = k\n",
    "        self.init = InitialLayer()\n",
    "        self.layer = GradientDescentLayer()\n",
    "\n",
    "    def forward(self, x_gt, u, alpha, eval=False):\n",
    "          \n",
    "        # init reconstruction\n",
    "        xk, y, uk = self.init(x_gt, u)\n",
    "        \n",
    "        # compute reconstructions\n",
    "        for layer in tqdm(range(self.num_layer)):\n",
    "             xk = self.layer(xk, y, uk, alpha)\n",
    "        \n",
    "        \n",
    "        if eval is False:\n",
    "            return xk\n",
    "        \n",
    "        # evaluate\n",
    "        self.__compute_metrics(x_gt, xk.clone())\n",
    "        \n",
    "        return xk\n",
    "    \n",
    "    def train(self, train_data, alpha, beta, epochs):\n",
    "        # function to train a reference using this unrolled network\n",
    "        \n",
    "        # unpack\n",
    "        n, h, w = train_data.size()\n",
    "\n",
    "        # init first reference signal\n",
    "        torch.manual_seed(417)\n",
    "        u = torch.rand(h, w, requires_grad=True)\n",
    "\n",
    "        best_loss = float('inf')\n",
    "        best_u = u\n",
    "        for epoch in range(epochs):\n",
    "\n",
    "            rec = self.forward(train_data, u, alpha)\n",
    "            loss = (train_data - rec).pow(2).sum()\n",
    "\n",
    "            if loss.item() < best_loss:\n",
    "                best_u = u\n",
    "                best_loss = loss.item()\n",
    "\n",
    "            print(f' Loss: {loss.item()}')\n",
    "            plt.gray()\n",
    "            plt.imshow(u.detach().numpy());\n",
    "            plt.show()\n",
    "            \n",
    "            loss.backward(retain_graph=True)\n",
    "            new_u = u - beta * u.grad.data\n",
    "            new_u = torch.clamp(new_u, 0, 1)\n",
    "\n",
    "            u = new_u.clone().detach().requires_grad_(True)\n",
    "        \n",
    "        return best_u.detach()\n",
    "\n",
    "    def __compute_metrics(self, x_gt, xk):\n",
    "        # function to compute mean psnr and mean ssim\n",
    "        psnr = []\n",
    "        ssim = []\n",
    "        \n",
    "        n = x_gt.size()[0]\n",
    "        gt = x_gt.detach().numpy()\n",
    "        rec = xk.detach().numpy()\n",
    "        \n",
    "        for i in range(n):\n",
    "            psnr.append(metrics.peak_signal_noise_ratio(gt[i], rec[i]))\n",
    "            ssim.append(metrics.structural_similarity(gt[i], rec[i]))\n",
    "\n",
    "        mp, sp = np.mean(psnr), np.std(psnr)\n",
    "        ms, ss = np.mean(ssim), np.std(ssim)\n",
    "        \n",
    "        print(f'PSNR: {mp} +/- {sp}')\n",
    "        print(f'SSIM: {ms} +/- {ss}')"
   ]
  },
  {
   "cell_type": "markdown",
   "metadata": {},
   "source": [
    "# Load the test data"
   ]
  },
  {
   "cell_type": "code",
   "execution_count": 5,
   "metadata": {
    "scrolled": false
   },
   "outputs": [
    {
     "name": "stdout",
     "output_type": "stream",
     "text": [
      "Files already downloaded and verified\n",
      "Files already downloaded and verified\n"
     ]
    }
   ],
   "source": [
    "CIFAR10_train = tv.datasets.CIFAR10('cifar', train=True, download=True)\n",
    "CIFAR10_test = tv.datasets.CIFAR10('cifar', train=False, download=True)\n",
    "\n",
    "\n",
    "ToGrayscale = np.array([[0.2989], [0.5870], [0.1140]])\n",
    "x_train = np.squeeze(CIFAR10_train.data@ToGrayscale)/255\n",
    "x_test = np.squeeze(CIFAR10_test.data@ToGrayscale)/255\n",
    "\n",
    "x_train = torch.FloatTensor(x_train)\n",
    "x_test = torch.FloatTensor(x_test)"
   ]
  },
  {
   "cell_type": "markdown",
   "metadata": {},
   "source": [
    "## Train a reference signal"
   ]
  },
  {
   "cell_type": "code",
   "execution_count": 7,
   "metadata": {},
   "outputs": [
    {
     "data": {
      "application/vnd.jupyter.widget-view+json": {
       "model_id": "4773e701ffc944a889e2df675e65eb95",
       "version_major": 2,
       "version_minor": 0
      },
      "text/plain": [
       "  0%|          | 0/50 [00:00<?, ?it/s]"
      ]
     },
     "metadata": {},
     "output_type": "display_data"
    },
    {
     "name": "stdout",
     "output_type": "stream",
     "text": [
      " Loss: 1265.708251953125\n"
     ]
    },
    {
     "data": {
      "image/png": "[encoded data removed]",
      "text/plain": [
       "<Figure size 432x288 with 1 Axes>"
      ]
     },
     "metadata": {
      "needs_background": "light"
     },
     "output_type": "display_data"
    },
    {
     "data": {
      "application/vnd.jupyter.widget-view+json": {
       "model_id": "7781b24fcbf14cab9433b4aac11020ff",
       "version_major": 2,
       "version_minor": 0
      },
      "text/plain": [
       "  0%|          | 0/50 [00:00<?, ?it/s]"
      ]
     },
     "metadata": {},
     "output_type": "display_data"
    },
    {
     "name": "stdout",
     "output_type": "stream",
     "text": [
      " Loss: 25.37702751159668\n"
     ]
    },
    {
     "data": {
      "image/png": "[encoded data removed]",
      "text/plain": [
       "<Figure size 432x288 with 1 Axes>"
      ]
     },
     "metadata": {
      "needs_background": "light"
     },
     "output_type": "display_data"
    },
    {
     "data": {
      "application/vnd.jupyter.widget-view+json": {
       "model_id": "1ebffe0b07844dd9b3c3685dba0ec97b",
       "version_major": 2,
       "version_minor": 0
      },
      "text/plain": [
       "  0%|          | 0/50 [00:00<?, ?it/s]"
      ]
     },
     "metadata": {},
     "output_type": "display_data"
    },
    {
     "name": "stdout",
     "output_type": "stream",
     "text": [
      " Loss: 25.030925750732422\n"
     ]
    },
    {
     "data": {
      "image/png": "[encoded data removed]",
      "text/plain": [
       "<Figure size 432x288 with 1 Axes>"
      ]
     },
     "metadata": {
      "needs_background": "light"
     },
     "output_type": "display_data"
    },
    {
     "data": {
      "application/vnd.jupyter.widget-view+json": {
       "model_id": "b20fbb5f05c7405ab8b82cdaac52d582",
       "version_major": 2,
       "version_minor": 0
      },
      "text/plain": [
       "  0%|          | 0/50 [00:00<?, ?it/s]"
      ]
     },
     "metadata": {},
     "output_type": "display_data"
    },
    {
     "name": "stdout",
     "output_type": "stream",
     "text": [
      " Loss: 37.055294036865234\n"
     ]
    },
    {
     "data": {
      "image/png": "[encoded data removed]",
      "text/plain": [
       "<Figure size 432x288 with 1 Axes>"
      ]
     },
     "metadata": {
      "needs_background": "light"
     },
     "output_type": "display_data"
    },
    {
     "data": {
      "application/vnd.jupyter.widget-view+json": {
       "model_id": "7455955534fb4a9dae4677da325b0c36",
       "version_major": 2,
       "version_minor": 0
      },
      "text/plain": [
       "  0%|          | 0/50 [00:00<?, ?it/s]"
      ]
     },
     "metadata": {},
     "output_type": "display_data"
    },
    {
     "name": "stdout",
     "output_type": "stream",
     "text": [
      " Loss: 46.49266052246094\n"
     ]
    },
    {
     "data": {
      "image/png": "[encoded data removed]",
      "text/plain": [
       "<Figure size 432x288 with 1 Axes>"
      ]
     },
     "metadata": {
      "needs_background": "light"
     },
     "output_type": "display_data"
    },
    {
     "data": {
      "application/vnd.jupyter.widget-view+json": {
       "model_id": "76177b01b05745c3a390dc7944fc0cd0",
       "version_major": 2,
       "version_minor": 0
      },
      "text/plain": [
       "  0%|          | 0/50 [00:00<?, ?it/s]"
      ]
     },
     "metadata": {},
     "output_type": "display_data"
    },
    {
     "name": "stdout",
     "output_type": "stream",
     "text": [
      " Loss: 56.75692367553711\n"
     ]
    },
    {
     "data": {
      "image/png": "[encoded data removed]",
      "text/plain": [
       "<Figure size 432x288 with 1 Axes>"
      ]
     },
     "metadata": {
      "needs_background": "light"
     },
     "output_type": "display_data"
    },
    {
     "data": {
      "application/vnd.jupyter.widget-view+json": {
       "model_id": "66a2482564284727974cb29984916abf",
       "version_major": 2,
       "version_minor": 0
      },
      "text/plain": [
       "  0%|          | 0/50 [00:00<?, ?it/s]"
      ]
     },
     "metadata": {},
     "output_type": "display_data"
    },
    {
     "name": "stdout",
     "output_type": "stream",
     "text": [
      " Loss: 36.14095687866211\n"
     ]
    },
    {
     "data": {
      "image/png": "[encoded data removed]",
      "text/plain": [
       "<Figure size 432x288 with 1 Axes>"
      ]
     },
     "metadata": {
      "needs_background": "light"
     },
     "output_type": "display_data"
    },
    {
     "data": {
      "application/vnd.jupyter.widget-view+json": {
       "model_id": "033301bf9fcf45ed98ee726d3f280d2a",
       "version_major": 2,
       "version_minor": 0
      },
      "text/plain": [
       "  0%|          | 0/50 [00:00<?, ?it/s]"
      ]
     },
     "metadata": {},
     "output_type": "display_data"
    },
    {
     "name": "stdout",
     "output_type": "stream",
     "text": [
      " Loss: 73.6795883178711\n"
     ]
    },
    {
     "data": {
      "image/png": "[encoded data removed]",
      "text/plain": [
       "<Figure size 432x288 with 1 Axes>"
      ]
     },
     "metadata": {
      "needs_background": "light"
     },
     "output_type": "display_data"
    },
    {
     "data": {
      "application/vnd.jupyter.widget-view+json": {
       "model_id": "07deec57f2174b53b029199a64117c77",
       "version_major": 2,
       "version_minor": 0
      },
      "text/plain": [
       "  0%|          | 0/50 [00:00<?, ?it/s]"
      ]
     },
     "metadata": {},
     "output_type": "display_data"
    },
    {
     "name": "stdout",
     "output_type": "stream",
     "text": [
      " Loss: 52.89167404174805\n"
     ]
    },
    {
     "data": {
      "image/png": "[encoded data removed]",
      "text/plain": [
       "<Figure size 432x288 with 1 Axes>"
      ]
     },
     "metadata": {
      "needs_background": "light"
     },
     "output_type": "display_data"
    },
    {
     "data": {
      "application/vnd.jupyter.widget-view+json": {
       "model_id": "ebdacb2d910947e1bf401ec3d586baad",
       "version_major": 2,
       "version_minor": 0
      },
      "text/plain": [
       "  0%|          | 0/50 [00:00<?, ?it/s]"
      ]
     },
     "metadata": {},
     "output_type": "display_data"
    },
    {
     "name": "stdout",
     "output_type": "stream",
     "text": [
      " Loss: 64.81414031982422\n"
     ]
    },
    {
     "data": {
      "image/png": "[encoded data removed]",
      "text/plain": [
       "<Figure size 432x288 with 1 Axes>"
      ]
     },
     "metadata": {
      "needs_background": "light"
     },
     "output_type": "display_data"
    }
   ],
   "source": [
    "n_train = 32\n",
    "\n",
    "# create network with 50 layer\n",
    "net = UnrolledNetwork(k = 50)\n",
    "\n",
    "# train network\n",
    "ref = net.train(x_train[:32], alpha = 0.8, beta= 0.1, epochs=10)"
   ]
  },
  {
   "cell_type": "code",
   "execution_count": 8,
   "metadata": {},
   "outputs": [
    {
     "data": {
      "image/png": "[encoded data removed]",
      "text/plain": [
       "<Figure size 432x288 with 1 Axes>"
      ]
     },
     "metadata": {
      "needs_background": "light"
     },
     "output_type": "display_data"
    }
   ],
   "source": [
    "plt.imshow(ref.numpy());"
   ]
  },
  {
   "cell_type": "markdown",
   "metadata": {},
   "source": [
    "## Test the reference signal for reconstruction"
   ]
  },
  {
   "cell_type": "code",
   "execution_count": 9,
   "metadata": {},
   "outputs": [
    {
     "data": {
      "application/vnd.jupyter.widget-view+json": {
       "model_id": "eaead1447d02456891e23ea764ad5f6a",
       "version_major": 2,
       "version_minor": 0
      },
      "text/plain": [
       "  0%|          | 0/50 [00:00<?, ?it/s]"
      ]
     },
     "metadata": {},
     "output_type": "display_data"
    },
    {
     "name": "stdout",
     "output_type": "stream",
     "text": [
      "PSNR: 42.27349982616841 +/- 12.689637604423648\n",
      "SSIM: 0.9711456691635773 +/- 0.06587896539166054\n"
     ]
    }
   ],
   "source": [
    "n_test = 10000\n",
    "\n",
    "net = UnrolledNetwork(50)\n",
    "\n",
    "rec = net(x_test, ref, 0.8, eval=True)"
   ]
  },
  {
   "cell_type": "code",
   "execution_count": 10,
   "metadata": {},
   "outputs": [
    {
     "data": {
      "image/png": "[encoded data removed]",
      "text/plain": [
       "<Figure size 1080x432 with 12 Axes>"
      ]
     },
     "metadata": {
      "needs_background": "light"
     },
     "output_type": "display_data"
    }
   ],
   "source": [
    "n = 6\n",
    "\n",
    "height, width = x_test[0].size()\n",
    "figset = range(0,n)\n",
    "plt.figure(figsize=(n*2.5, 6))\n",
    "plt.gray()\n",
    "\n",
    "for i in range(n):\n",
    "    # display original\n",
    "    ax = plt.subplot(2, n, i + 1)\n",
    "    plt.imshow(x_test[figset[i]].detach().numpy())\n",
    "    plt.gray\n",
    "    plt.title('True Signal')\n",
    "    ax.get_xaxis().set_visible(False)\n",
    "    ax.get_yaxis().set_visible(False)\n",
    "\n",
    "    # display reconstruction\n",
    "    ax = plt.subplot(2, n, i + 1 +n)\n",
    "    plt.imshow(rec[figset[i]].detach().numpy())\n",
    "    plt.title('Reconstruction')\n",
    "    plt.gray()\n",
    "    ax.get_xaxis().set_visible(False)\n",
    "    ax.get_yaxis().set_visible(False)"
   ]
  }
 ],
 "metadata": {
  "kernelspec": {
   "display_name": "Python 3",
   "language": "python",
   "name": "python3"
  },
  "language_info": {
   "codemirror_mode": {
    "name": "ipython",
    "version": 3
   },
   "file_extension": ".py",
   "mimetype": "text/x-python",
   "name": "python",
   "nbconvert_exporter": "python",
   "pygments_lexer": "ipython3",
   "version": "3.7.3"
  }
 },
 "nbformat": 4,
 "nbformat_minor": 4
}
