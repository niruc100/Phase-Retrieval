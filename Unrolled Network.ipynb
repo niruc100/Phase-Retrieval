{
 "cells": [
  {
   "cell_type": "markdown",
   "metadata": {},
   "source": [
    "# Phase Retrieval Using Unrolled Networks"
   ]
  },
  {
   "cell_type": "code",
   "execution_count": 1,
   "metadata": {
    "ExecuteTime": {
     "end_time": "2021-08-13T13:16:12.545280Z",
     "start_time": "2021-08-13T13:16:09.135517Z"
    },
    "scrolled": true
   },
   "outputs": [
    {
     "name": "stdout",
     "output_type": "stream",
     "text": [
      "1.8.1 0.9.1 1.20.2\n"
     ]
    }
   ],
   "source": [
    "import torch \n",
    "import torchvision as tv\n",
    "\n",
    "import numpy as np\n",
    "import matplotlib.pyplot as plt\n",
    "\n",
    "import torch.nn.functional as F\n",
    "import torch.nn as nn\n",
    "\n",
    "from tqdm.notebook import tqdm\n",
    "from skimage import metrics\n",
    "\n",
    "%matplotlib inline\n",
    "%load_ext autoreload\n",
    "%autoreload 2\n",
    "print(torch.__version__, tv.__version__, np.__version__)"
   ]
  },
  {
   "cell_type": "markdown",
   "metadata": {},
   "source": [
    "# Define the recurrent network for Phase retrieval\n",
    "\n",
    "## A single layer to compute the true measurements and initialize the reconstructions"
   ]
  },
  {
   "cell_type": "code",
   "execution_count": 2,
   "metadata": {
    "ExecuteTime": {
     "end_time": "2021-08-13T13:16:21.349865Z",
     "start_time": "2021-08-13T13:16:21.253555Z"
    }
   },
   "outputs": [],
   "source": [
    "class InitialLayer(nn.Module):\n",
    "    def __init__(self):\n",
    "        super(InitialLayer, self).__init__()\n",
    "        \n",
    "    def forward(self, x_gt, u):\n",
    "        \n",
    "        # for numerical stability\n",
    "        eps = torch.tensor([1e-15])\n",
    "        \n",
    "        #unpack\n",
    "        n, h, w = x_gt.size()\n",
    "        \n",
    "        # true signal measurement\n",
    "        y = torch.fft.fft2(x_gt + u + eps, s=(2*h, 2*w), norm='ortho').abs()\n",
    "        \n",
    "        # init reconstruction \n",
    "        x = torch.zeros_like(x_gt, requires_grad=True)\n",
    "        \n",
    "        return x, y.requires_grad_(True), u.requires_grad_(True)"
   ]
  },
  {
   "cell_type": "markdown",
   "metadata": {},
   "source": [
    "## Gradient descent layers which perform the update step with SGD"
   ]
  },
  {
   "cell_type": "code",
   "execution_count": 3,
   "metadata": {
    "ExecuteTime": {
     "end_time": "2021-08-13T13:16:24.573488Z",
     "start_time": "2021-08-13T13:16:24.477833Z"
    }
   },
   "outputs": [],
   "source": [
    "class GradientDescentLayer(nn.Module):\n",
    "    def __init__(self):\n",
    "        super(GradientDescentLayer, self).__init__()\n",
    "\n",
    "    def forward(self, xk, y, u, alpha):\n",
    "\n",
    "        # for numerical stability\n",
    "        eps = torch.tensor([1e-15])\n",
    "        \n",
    "        #unpack\n",
    "        n, h, w = xk.size()\n",
    "\n",
    "        # compute estimated signal\n",
    "        y_est = torch.fft.fft2(xk + u + eps, s=(2*h,2*w), norm='ortho').abs()\n",
    "\n",
    "        # measurement loss\n",
    "        loss = (y - y_est).pow(2).sum()\n",
    "\n",
    "        # update reconstruction via SGD\n",
    "        loss.backward(retain_graph= True)\n",
    "        new_x = xk - alpha * xk.grad.data\n",
    "        new_x = torch.clamp(new_x, 0, 1)\n",
    "\n",
    "        return new_x.clone().detach().requires_grad_(True)"
   ]
  },
  {
   "cell_type": "markdown",
   "metadata": {},
   "source": [
    "## The (trainable) network which composes the initial layer and k - SGD layer together"
   ]
  },
  {
   "cell_type": "code",
   "execution_count": 4,
   "metadata": {
    "ExecuteTime": {
     "end_time": "2021-08-13T13:16:29.837958Z",
     "start_time": "2021-08-13T13:16:29.662961Z"
    }
   },
   "outputs": [],
   "source": [
    "class UnrolledNetwork(nn.Module):\n",
    "    def __init__(self, k):\n",
    "        super(UnrolledNetwork, self).__init__()\n",
    "\n",
    "        self.num_layer = k\n",
    "        self.init = InitialLayer()\n",
    "        self.layer = GradientDescentLayer()\n",
    "\n",
    "    def forward(self, x_gt, u, alpha, eval=False):\n",
    "          \n",
    "        # init reconstruction\n",
    "        xk, y, uk = self.init(x_gt, u)\n",
    "        \n",
    "        # compute reconstructions\n",
    "        for layer in tqdm(range(self.num_layer)):\n",
    "             xk = self.layer(xk, y, uk, alpha)\n",
    "        \n",
    "        \n",
    "        if eval is False:\n",
    "            return xk\n",
    "        \n",
    "        # evaluate\n",
    "        self.__compute_metrics(x_gt, xk.clone())\n",
    "        \n",
    "        return xk\n",
    "    \n",
    "    def train(self, train_data, alpha, beta, epochs):\n",
    "        # function to train a reference using this unrolled network\n",
    "        \n",
    "        # unpack\n",
    "        n, h, w = train_data.size()\n",
    "\n",
    "        # init first reference signal\n",
    "        torch.manual_seed(417)\n",
    "        u = torch.rand(h, w, requires_grad=True)\n",
    "\n",
    "        best_loss = float('inf')\n",
    "        best_u = u\n",
    "        for epoch in range(epochs):\n",
    "\n",
    "            rec = self.forward(train_data, u, alpha)\n",
    "            loss = (train_data - rec).pow(2).sum()\n",
    "\n",
    "            if loss.item() < best_loss:\n",
    "                best_u = u\n",
    "                best_loss = loss.item()\n",
    "\n",
    "            print(f' Loss: {loss.item()}')\n",
    "            plt.gray()\n",
    "            plt.imshow(u.detach().numpy());\n",
    "            plt.show()\n",
    "            \n",
    "            loss.backward(retain_graph=True)\n",
    "            new_u = u - beta * u.grad.data\n",
    "            new_u = torch.clamp(new_u, 0, 1)\n",
    "\n",
    "            u = new_u.clone().detach().requires_grad_(True)\n",
    "        \n",
    "        return best_u.detach()\n",
    "\n",
    "    def __compute_metrics(self, x_gt, xk):\n",
    "        # function to compute mean psnr and mean ssim\n",
    "        psnr = []\n",
    "        ssim = []\n",
    "        \n",
    "        n = x_gt.size()[0]\n",
    "        gt = x_gt.detach().numpy()\n",
    "        rec = xk.detach().numpy()\n",
    "        \n",
    "        for i in range(n):\n",
    "            psnr.append(metrics.peak_signal_noise_ratio(gt[i], rec[i]))\n",
    "            ssim.append(metrics.structural_similarity(gt[i], rec[i]))\n",
    "\n",
    "        mp, sp = np.mean(psnr), np.std(psnr)\n",
    "        ms, ss = np.mean(ssim), np.std(ssim)\n",
    "        \n",
    "        print(f'PSNR: {mp} +/- {sp}')\n",
    "        print(f'SSIM: {ms} +/- {ss}')"
   ]
  },
  {
   "cell_type": "markdown",
   "metadata": {},
   "source": [
    "# Load the test data"
   ]
  },
  {
   "cell_type": "code",
   "execution_count": 5,
   "metadata": {
    "ExecuteTime": {
     "end_time": "2021-08-13T13:17:00.804584Z",
     "start_time": "2021-08-13T13:16:31.893940Z"
    },
    "scrolled": false
   },
   "outputs": [
    {
     "name": "stdout",
     "output_type": "stream",
     "text": [
      "Downloading https://www.cs.toronto.edu/~kriz/cifar-10-python.tar.gz to cifar\\cifar-10-python.tar.gz\n"
     ]
    },
    {
     "data": {
      "application/vnd.jupyter.widget-view+json": {
       "model_id": "2b8861816d9f4e8ab6904eb2ce2f70a5",
       "version_major": 2,
       "version_minor": 0
      },
      "text/plain": [
       "  0%|          | 0/170498071 [00:00<?, ?it/s]"
      ]
     },
     "metadata": {},
     "output_type": "display_data"
    },
    {
     "name": "stdout",
     "output_type": "stream",
     "text": [
      "Extracting cifar\\cifar-10-python.tar.gz to cifar\n",
      "Files already downloaded and verified\n"
     ]
    }
   ],
   "source": [
    "CIFAR10_train = tv.datasets.CIFAR10('cifar', train=True, download=True)\n",
    "CIFAR10_test = tv.datasets.CIFAR10('cifar', train=False, download=True)\n",
    "\n",
    "\n",
    "ToGrayscale = np.array([[0.2989], [0.5870], [0.1140]])\n",
    "x_train = np.squeeze(CIFAR10_train.data@ToGrayscale)/255\n",
    "x_test = np.squeeze(CIFAR10_test.data@ToGrayscale)/255\n",
    "\n",
    "x_train = torch.FloatTensor(x_train)\n",
    "x_test = torch.FloatTensor(x_test)"
   ]
  },
  {
   "cell_type": "markdown",
   "metadata": {},
   "source": [
    "## Train a reference signal"
   ]
  },
  {
   "cell_type": "code",
   "execution_count": 13,
   "metadata": {
    "ExecuteTime": {
     "end_time": "2021-08-13T13:21:24.542212Z",
     "start_time": "2021-08-13T13:21:17.036952Z"
    }
   },
   "outputs": [
    {
     "data": {
      "application/vnd.jupyter.widget-view+json": {
       "model_id": "40ae97096b6d42ada3aa5d04b6c34df2",
       "version_major": 2,
       "version_minor": 0
      },
      "text/plain": [
       "  0%|          | 0/50 [00:00<?, ?it/s]"
      ]
     },
     "metadata": {},
     "output_type": "display_data"
    },
    {
     "name": "stdout",
     "output_type": "stream",
     "text": [
      " Loss: 1265.7081298828125\n"
     ]
    },
    {
     "data": {
      "image/png": "[encoded data removed]",
      "text/plain": [
       "<Figure size 432x288 with 1 Axes>"
      ]
     },
     "metadata": {
      "needs_background": "light"
     },
     "output_type": "display_data"
    },
    {
     "data": {
      "application/vnd.jupyter.widget-view+json": {
       "model_id": "f1a173b46c5f4534b06bf7d3ac4f2de0",
       "version_major": 2,
       "version_minor": 0
      },
      "text/plain": [
       "  0%|          | 0/50 [00:00<?, ?it/s]"
      ]
     },
     "metadata": {},
     "output_type": "display_data"
    },
    {
     "name": "stdout",
     "output_type": "stream",
     "text": [
      " Loss: 15.051462173461914\n"
     ]
    },
    {
     "data": {
      "image/png": "[encoded data removed]",
      "text/plain": [
       "<Figure size 432x288 with 1 Axes>"
      ]
     },
     "metadata": {
      "needs_background": "light"
     },
     "output_type": "display_data"
    },
    {
     "data": {
      "application/vnd.jupyter.widget-view+json": {
       "model_id": "228f6cae142f4dee98bc28cea68266b9",
       "version_major": 2,
       "version_minor": 0
      },
      "text/plain": [
       "  0%|          | 0/50 [00:00<?, ?it/s]"
      ]
     },
     "metadata": {},
     "output_type": "display_data"
    },
    {
     "name": "stdout",
     "output_type": "stream",
     "text": [
      " Loss: 24.887325286865234\n"
     ]
    },
    {
     "data": {
      "image/png": "[encoded data removed]",
      "text/plain": [
       "<Figure size 432x288 with 1 Axes>"
      ]
     },
     "metadata": {
      "needs_background": "light"
     },
     "output_type": "display_data"
    },
    {
     "data": {
      "application/vnd.jupyter.widget-view+json": {
       "model_id": "655270b2b3a94cb89d3111342f4f6c26",
       "version_major": 2,
       "version_minor": 0
      },
      "text/plain": [
       "  0%|          | 0/50 [00:00<?, ?it/s]"
      ]
     },
     "metadata": {},
     "output_type": "display_data"
    },
    {
     "name": "stdout",
     "output_type": "stream",
     "text": [
      " Loss: 10.48649787902832\n"
     ]
    },
    {
     "data": {
      "image/png": "[encoded data removed]",
      "text/plain": [
       "<Figure size 432x288 with 1 Axes>"
      ]
     },
     "metadata": {
      "needs_background": "light"
     },
     "output_type": "display_data"
    },
    {
     "data": {
      "application/vnd.jupyter.widget-view+json": {
       "model_id": "60a82c5ebf2a45edaede2ab8fc8051b4",
       "version_major": 2,
       "version_minor": 0
      },
      "text/plain": [
       "  0%|          | 0/50 [00:00<?, ?it/s]"
      ]
     },
     "metadata": {},
     "output_type": "display_data"
    },
    {
     "name": "stdout",
     "output_type": "stream",
     "text": [
      " Loss: 19.101802825927734\n"
     ]
    },
    {
     "data": {
      "image/png": "[encoded data removed]",
      "text/plain": [
       "<Figure size 432x288 with 1 Axes>"
      ]
     },
     "metadata": {
      "needs_background": "light"
     },
     "output_type": "display_data"
    },
    {
     "data": {
      "application/vnd.jupyter.widget-view+json": {
       "model_id": "b724e0d33c9c4382b27da9782237e2db",
       "version_major": 2,
       "version_minor": 0
      },
      "text/plain": [
       "  0%|          | 0/50 [00:00<?, ?it/s]"
      ]
     },
     "metadata": {},
     "output_type": "display_data"
    },
    {
     "name": "stdout",
     "output_type": "stream",
     "text": [
      " Loss: 53.48255157470703\n"
     ]
    },
    {
     "data": {
      "image/png": "[encoded data removed]",
      "text/plain": [
       "<Figure size 432x288 with 1 Axes>"
      ]
     },
     "metadata": {
      "needs_background": "light"
     },
     "output_type": "display_data"
    },
    {
     "data": {
      "application/vnd.jupyter.widget-view+json": {
       "model_id": "cf0b8e0f9cea42c6b5124fb425889101",
       "version_major": 2,
       "version_minor": 0
      },
      "text/plain": [
       "  0%|          | 0/50 [00:00<?, ?it/s]"
      ]
     },
     "metadata": {},
     "output_type": "display_data"
    },
    {
     "name": "stdout",
     "output_type": "stream",
     "text": [
      " Loss: 55.03447723388672\n"
     ]
    },
    {
     "data": {
      "image/png": "[encoded data removed]",
      "text/plain": [
       "<Figure size 432x288 with 1 Axes>"
      ]
     },
     "metadata": {
      "needs_background": "light"
     },
     "output_type": "display_data"
    },
    {
     "data": {
      "application/vnd.jupyter.widget-view+json": {
       "model_id": "29e1f587a19b402fa610ab6a18e6ad4f",
       "version_major": 2,
       "version_minor": 0
      },
      "text/plain": [
       "  0%|          | 0/50 [00:00<?, ?it/s]"
      ]
     },
     "metadata": {},
     "output_type": "display_data"
    },
    {
     "name": "stdout",
     "output_type": "stream",
     "text": [
      " Loss: 56.28349304199219\n"
     ]
    },
    {
     "data": {
      "image/png": "[encoded data removed]",
      "text/plain": [
       "<Figure size 432x288 with 1 Axes>"
      ]
     },
     "metadata": {
      "needs_background": "light"
     },
     "output_type": "display_data"
    },
    {
     "data": {
      "application/vnd.jupyter.widget-view+json": {
       "model_id": "6f2e205447d945f7b0c44a3b0279f1be",
       "version_major": 2,
       "version_minor": 0
      },
      "text/plain": [
       "  0%|          | 0/50 [00:00<?, ?it/s]"
      ]
     },
     "metadata": {},
     "output_type": "display_data"
    },
    {
     "name": "stdout",
     "output_type": "stream",
     "text": [
      " Loss: 25.19658851623535\n"
     ]
    },
    {
     "data": {
      "image/png": "[encoded data removed]",
      "text/plain": [
       "<Figure size 432x288 with 1 Axes>"
      ]
     },
     "metadata": {
      "needs_background": "light"
     },
     "output_type": "display_data"
    },
    {
     "data": {
      "application/vnd.jupyter.widget-view+json": {
       "model_id": "221c9384c63d4fd1b27d90ed7910981e",
       "version_major": 2,
       "version_minor": 0
      },
      "text/plain": [
       "  0%|          | 0/50 [00:00<?, ?it/s]"
      ]
     },
     "metadata": {},
     "output_type": "display_data"
    },
    {
     "name": "stdout",
     "output_type": "stream",
     "text": [
      " Loss: 98.6638412475586\n"
     ]
    },
    {
     "data": {
      "image/png": "[encoded data removed]",
      "text/plain": [
       "<Figure size 432x288 with 1 Axes>"
      ]
     },
     "metadata": {
      "needs_background": "light"
     },
     "output_type": "display_data"
    }
   ],
   "source": [
    "n_train = 32\n",
    "\n",
    "# create network with 50 layer\n",
    "net = UnrolledNetwork(k = 50)\n",
    "\n",
    "# train network\n",
    "ref = net.train(x_train[:n_train], alpha = 0.8, beta= 0.4, epochs=10)"
   ]
  },
  {
   "cell_type": "code",
   "execution_count": 14,
   "metadata": {
    "ExecuteTime": {
     "end_time": "2021-08-13T13:21:31.610427Z",
     "start_time": "2021-08-13T13:21:31.397826Z"
    }
   },
   "outputs": [
    {
     "data": {
      "image/png": "[encoded data removed]",
      "text/plain": [
       "<Figure size 432x288 with 1 Axes>"
      ]
     },
     "metadata": {
      "needs_background": "light"
     },
     "output_type": "display_data"
    }
   ],
   "source": [
    "plt.imshow(ref.numpy());"
   ]
  },
  {
   "cell_type": "markdown",
   "metadata": {},
   "source": [
    "## Test the reference signal for reconstruction"
   ]
  },
  {
   "cell_type": "code",
   "execution_count": 15,
   "metadata": {
    "ExecuteTime": {
     "end_time": "2021-08-13T13:22:56.418479Z",
     "start_time": "2021-08-13T13:21:34.106614Z"
    }
   },
   "outputs": [
    {
     "data": {
      "application/vnd.jupyter.widget-view+json": {
       "model_id": "475be4a84bf14d02afaf39927dd0a6ae",
       "version_major": 2,
       "version_minor": 0
      },
      "text/plain": [
       "  0%|          | 0/50 [00:00<?, ?it/s]"
      ]
     },
     "metadata": {},
     "output_type": "display_data"
    },
    {
     "name": "stdout",
     "output_type": "stream",
     "text": [
      "PSNR: 45.406676152589675 +/- 12.751069591343002\n",
      "SSIM: 0.9789647088871163 +/- 0.056898928127505105\n"
     ]
    }
   ],
   "source": [
    "n_test = 10000\n",
    "\n",
    "net = UnrolledNetwork(50)\n",
    "\n",
    "rec = net(x_test[:n_test], u= ref, alpha= 0.8, eval=True)"
   ]
  },
  {
   "cell_type": "code",
   "execution_count": 16,
   "metadata": {
    "ExecuteTime": {
     "end_time": "2021-08-13T13:23:24.780020Z",
     "start_time": "2021-08-13T13:23:24.006017Z"
    }
   },
   "outputs": [
    {
     "data": {
      "image/png": "[encoded data removed]",
      "text/plain": [
       "<Figure size 1080x432 with 12 Axes>"
      ]
     },
     "metadata": {
      "needs_background": "light"
     },
     "output_type": "display_data"
    }
   ],
   "source": [
    "n = 6\n",
    "\n",
    "height, width = x_test[0].size()\n",
    "figset = range(0,n)\n",
    "plt.figure(figsize=(n*2.5, 6))\n",
    "plt.gray()\n",
    "\n",
    "for i in range(n):\n",
    "    # display original\n",
    "    ax = plt.subplot(2, n, i + 1)\n",
    "    plt.imshow(x_test[figset[i]].detach().numpy())\n",
    "    plt.gray\n",
    "    plt.title('True Signal')\n",
    "    ax.get_xaxis().set_visible(False)\n",
    "    ax.get_yaxis().set_visible(False)\n",
    "\n",
    "    # display reconstruction\n",
    "    ax = plt.subplot(2, n, i + 1 +n)\n",
    "    plt.imshow(rec[figset[i]].detach().numpy())\n",
    "    plt.title('Reconstruction')\n",
    "    plt.gray()\n",
    "    ax.get_xaxis().set_visible(False)\n",
    "    ax.get_yaxis().set_visible(False)"
   ]
  }
 ],
 "metadata": {
  "kernelspec": {
   "display_name": "Python 3",
   "language": "python",
   "name": "python3"
  },
  "language_info": {
   "codemirror_mode": {
    "name": "ipython",
    "version": 3
   },
   "file_extension": ".py",
   "mimetype": "text/x-python",
   "name": "python",
   "nbconvert_exporter": "python",
   "pygments_lexer": "ipython3",
   "version": "3.7.10"
  },
  "toc": {
   "base_numbering": 1,
   "nav_menu": {},
   "number_sections": true,
   "sideBar": true,
   "skip_h1_title": false,
   "title_cell": "Table of Contents",
   "title_sidebar": "Contents",
   "toc_cell": false,
   "toc_position": {},
   "toc_section_display": true,
   "toc_window_display": false
  }
 },
 "nbformat": 4,
 "nbformat_minor": 4
}
